{
  "nbformat": 4,
  "nbformat_minor": 0,
  "metadata": {
    "colab": {
      "provenance": []
    },
    "kernelspec": {
      "name": "python3",
      "display_name": "Python 3"
    },
    "language_info": {
      "name": "python"
    }
  },
  "cells": [
    {
      "cell_type": "markdown",
      "source": [
        "# **Weekly Exercise 1**"
      ],
      "metadata": {
        "id": "pdESs1En0eyo"
      }
    },
    {
      "cell_type": "code",
      "execution_count": null,
      "metadata": {
        "colab": {
          "base_uri": "https://localhost:8080/"
        },
        "id": "BIfH7A3cvAj3",
        "outputId": "6388dee5-da5a-48ca-fe8d-8e4dd9f7618e"
      },
      "outputs": [
        {
          "output_type": "stream",
          "name": "stdout",
          "text": [
            "umur:28\n",
            "Boleh membuat SIM\n"
          ]
        }
      ],
      "source": [
        "umur = int(input(\"umur:\"))\n",
        "if umur >= 17:\n",
        "    print(\"Boleh membuat SIM\")\n",
        "else:\n",
        "    print(\"Tidak boleh membuat SIM\")"
      ]
    },
    {
      "cell_type": "markdown",
      "source": [
        "# **Weekly Exercise 2**"
      ],
      "metadata": {
        "id": "L92ftZ7A0p5H"
      }
    },
    {
      "cell_type": "code",
      "source": [
        "nilai = int (input(\"nilai:\"))\n",
        "if nilai >= 90:\n",
        "    print(\"A\")\n",
        "elif nilai >= 80:\n",
        "    print(\"B+\")\n",
        "elif nilai >= 70:\n",
        "    print(\"B\")\n",
        "elif nilai >= 60:\n",
        "    print(\"C+\")\n",
        "elif nilai >= 50:\n",
        "    print(\"C\")\n",
        "elif nilai >= 40:\n",
        "    print(\"D\")\n",
        "else:\n",
        "    print(\"E\")"
      ],
      "metadata": {
        "colab": {
          "base_uri": "https://localhost:8080/"
        },
        "id": "qiyB5D0QwSVD",
        "outputId": "ea4b6edd-8920-45ae-cc34-123c0d6c5845"
      },
      "execution_count": null,
      "outputs": [
        {
          "output_type": "stream",
          "name": "stdout",
          "text": [
            "nilai:87\n",
            "B+\n"
          ]
        }
      ]
    },
    {
      "cell_type": "markdown",
      "source": [
        "# **Weekly Exercise 3**"
      ],
      "metadata": {
        "id": "57Q-AnEK0tyH"
      }
    },
    {
      "cell_type": "code",
      "source": [
        "nilai = float (input(\"nilai:\"))\n",
        "if (80.00 <= nilai <= 100.00):\n",
        "    print(\"A\")\n",
        "elif (77.50 <= nilai <= 79.99):\n",
        "    print(\"A-\")\n",
        "elif (75.00 <= nilai <= 77.49):\n",
        "    print(\"A/B\")\n",
        "elif (72.50 <= nilai <= 74.99):\n",
        "    print(\"B+\")\n",
        "elif (70.00 <= nilai <= 72.49):\n",
        "    print(\"B\")\n",
        "elif (67.50 <= nilai <= 69.99):\n",
        "    print(\"B-\")\n",
        "elif (65.00 <= nilai <= 67.49):\n",
        "    print(\"B/C\")\n",
        "elif (62.50 <= nilai <= 64.99):\n",
        "    print(\"C+\")\n",
        "elif (60.00 <= nilai <= 62.49):\n",
        "    print(\"C\")\n",
        "elif (55.00 <= nilai <= 59.99):\n",
        "    print(\"C-\")\n",
        "elif (50.00 <= nilai <= 54.99):\n",
        "    print(\"C/D\")\n",
        "elif (45.00 <= nilai <= 49.99):\n",
        "    print(\"D+\")\n",
        "elif (40.00 <= nilai <= 44.99):\n",
        "    print(\"D\")\n",
        "else:\n",
        "    print(\"E\")"
      ],
      "metadata": {
        "colab": {
          "base_uri": "https://localhost:8080/"
        },
        "id": "Pu8ap7M80da4",
        "outputId": "67480799-7368-49a2-8447-2227d3199964"
      },
      "execution_count": null,
      "outputs": [
        {
          "output_type": "stream",
          "name": "stdout",
          "text": [
            "nilai:64.17\n",
            "C+\n"
          ]
        }
      ]
    }
  ]
}